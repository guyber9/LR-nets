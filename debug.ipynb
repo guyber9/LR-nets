{
 "cells": [
  {
   "cell_type": "code",
   "execution_count": null,
   "metadata": {},
   "outputs": [],
   "source": [
    "import torch\n",
    "import torch.nn as nn\n",
    "import numpy as np\n",
    "from layers import LRnetConv2d\n",
    "import matplotlib.pyplot as plt"
   ]
  },
  {
   "cell_type": "code",
   "execution_count": null,
   "metadata": {},
   "outputs": [],
   "source": [
    "class testnet(nn.Module):\n",
    "    def __init__(self):\n",
    "        super(testnet, self).__init__()\n",
    "        self.conv = LRnetConv2d(in_channels=256,out_channels=256,kernel_size=3)\n",
    "        self.conv.test_forward = False\n",
    "    def forward(self,x, sample=False):\n",
    "        self.conv.output_sample = sample\n",
    "        return self.conv(x)\n",
    "\n",
    "    \n",
    "x = torch.randn(10,256,3,3).cuda()\n",
    "net = testnet()"
   ]
  },
  {
   "cell_type": "code",
   "execution_count": null,
   "metadata": {},
   "outputs": [],
   "source": [
    "m,v = net(x)\n",
    "m = m.data.cpu().numpy()\n",
    "v = v.data.cpu().numpy()\n",
    "\n",
    "y1 = net(x,sample=True)"
   ]
  },
  {
   "cell_type": "code",
   "execution_count": null,
   "metadata": {},
   "outputs": [],
   "source": [
    "samples = []\n",
    "N = 100000\n",
    "with torch.no_grad():\n",
    "    for i in range(N):\n",
    "        y = net(x,sample=True)\n",
    "        samples.append(y.data.cpu().numpy())"
   ]
  },
  {
   "cell_type": "code",
   "execution_count": null,
   "metadata": {},
   "outputs": [],
   "source": [
    "samples = np.concatenate(samples,axis=3).reshape(-1,N)"
   ]
  },
  {
   "cell_type": "code",
   "execution_count": null,
   "metadata": {},
   "outputs": [],
   "source": [
    "mean_s = samples.mean(axis=1)\n",
    "std_s = samples.std(axis=1)"
   ]
  },
  {
   "cell_type": "code",
   "execution_count": null,
   "metadata": {},
   "outputs": [],
   "source": [
    "plt.scatter(v,std_s)"
   ]
  }
 ],
 "metadata": {
  "kernelspec": {
   "display_name": "Python 3",
   "language": "python",
   "name": "python3"
  },
  "language_info": {
   "codemirror_mode": {
    "name": "ipython",
    "version": 3
   },
   "file_extension": ".py",
   "mimetype": "text/x-python",
   "name": "python",
   "nbconvert_exporter": "python",
   "pygments_lexer": "ipython3",
   "version": "3.8.2"
  }
 },
 "nbformat": 4,
 "nbformat_minor": 4
}
